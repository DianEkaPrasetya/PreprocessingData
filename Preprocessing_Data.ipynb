{
  "nbformat": 4,
  "nbformat_minor": 0,
  "metadata": {
    "colab": {
      "name": "Preprocessing Data.ipynb",
      "provenance": [],
      "collapsed_sections": []
    },
    "kernelspec": {
      "name": "python3",
      "display_name": "Python 3"
    },
    "language_info": {
      "name": "python"
    }
  },
  "cells": [
    {
      "cell_type": "code",
      "execution_count": 1,
      "metadata": {
        "id": "6v48S7dXtCaq"
      },
      "outputs": [],
      "source": [
        "import numpy as np\n",
        "import matplotlib.pyplot as plt\n",
        "import pandas as pd"
      ]
    },
    {
      "cell_type": "code",
      "source": [
        "dataset = pd.read_csv('DataklubOlahraga2019.csv')\n",
        "x = dataset.iloc[:, :-1].values\n",
        "y = dataset.iloc[:, -1].values"
      ],
      "metadata": {
        "id": "62w06A-RtjWJ"
      },
      "execution_count": 2,
      "outputs": []
    },
    {
      "cell_type": "code",
      "source": [
        "print(x)"
      ],
      "metadata": {
        "colab": {
          "base_uri": "https://localhost:8080/"
        },
        "id": "nq-EGM4ZtvsI",
        "outputId": "974f233e-dc8b-4698-8257-dbd2d0756519"
      },
      "execution_count": 3,
      "outputs": [
        {
          "output_type": "stream",
          "name": "stdout",
          "text": [
            "[['Bola Voli' 1 1 1 1]\n",
            " ['Panahan' 2 2 2 2]\n",
            " ['Renang' 1 1 1 1]\n",
            " ['Sepak Bola' 165 168 168 170]\n",
            " ['Sepak Takraw' 1 1 1 1]\n",
            " ['Tenis' 23 23 23 23]\n",
            " ['Tinju Beladiri' 4 4 4 4]]\n"
          ]
        }
      ]
    },
    {
      "cell_type": "code",
      "source": [
        "print(y)"
      ],
      "metadata": {
        "colab": {
          "base_uri": "https://localhost:8080/"
        },
        "id": "LhTl5_Netx6p",
        "outputId": "31f41e6e-906e-474b-e23b-51cd64aa021f"
      },
      "execution_count": 4,
      "outputs": [
        {
          "output_type": "stream",
          "name": "stdout",
          "text": [
            "[  1   2   1 170   1  23   4]\n"
          ]
        }
      ]
    },
    {
      "cell_type": "code",
      "source": [
        "from sklearn.compose import ColumnTransformer\n",
        "from sklearn.preprocessing import OneHotEncoder\n",
        "ct = ColumnTransformer(transformers=[('encoder', OneHotEncoder(), [0])], remainder='passthrough')\n",
        "x = np.array(ct.fit_transform(x))"
      ],
      "metadata": {
        "id": "q1VqFq6At1Io"
      },
      "execution_count": 5,
      "outputs": []
    },
    {
      "cell_type": "code",
      "source": [
        "print(x)"
      ],
      "metadata": {
        "colab": {
          "base_uri": "https://localhost:8080/"
        },
        "id": "-JKFVvRqt3TX",
        "outputId": "740df2b2-83bc-45c4-a81a-ec1577024196"
      },
      "execution_count": 6,
      "outputs": [
        {
          "output_type": "stream",
          "name": "stdout",
          "text": [
            "[[1.0 0.0 0.0 0.0 0.0 0.0 0.0 1 1 1 1]\n",
            " [0.0 1.0 0.0 0.0 0.0 0.0 0.0 2 2 2 2]\n",
            " [0.0 0.0 1.0 0.0 0.0 0.0 0.0 1 1 1 1]\n",
            " [0.0 0.0 0.0 1.0 0.0 0.0 0.0 165 168 168 170]\n",
            " [0.0 0.0 0.0 0.0 1.0 0.0 0.0 1 1 1 1]\n",
            " [0.0 0.0 0.0 0.0 0.0 1.0 0.0 23 23 23 23]\n",
            " [0.0 0.0 0.0 0.0 0.0 0.0 1.0 4 4 4 4]]\n"
          ]
        }
      ]
    },
    {
      "cell_type": "code",
      "source": [
        "from sklearn.preprocessing import LabelEncoder\n",
        "le = LabelEncoder()\n",
        "y = le.fit_transform(y)"
      ],
      "metadata": {
        "id": "v82H3KFlu9qq"
      },
      "execution_count": 7,
      "outputs": []
    },
    {
      "cell_type": "code",
      "source": [
        "print(y)"
      ],
      "metadata": {
        "colab": {
          "base_uri": "https://localhost:8080/"
        },
        "id": "sgNnZL_Fvfr4",
        "outputId": "7b3f1e56-e283-4523-985d-78b6b8f599e4"
      },
      "execution_count": 8,
      "outputs": [
        {
          "output_type": "stream",
          "name": "stdout",
          "text": [
            "[0 1 0 4 0 3 2]\n"
          ]
        }
      ]
    },
    {
      "cell_type": "code",
      "source": [
        "from sklearn.model_selection import train_test_split\n",
        "x_train, x_test, y_train, y_test = train_test_split(x, y, test_size=0.2, random_state=1)"
      ],
      "metadata": {
        "id": "x2ukIWuFwYwJ"
      },
      "execution_count": 9,
      "outputs": []
    },
    {
      "cell_type": "code",
      "source": [
        "print(x_train)"
      ],
      "metadata": {
        "colab": {
          "base_uri": "https://localhost:8080/"
        },
        "id": "_w5sw8mFxkYI",
        "outputId": "64129a4a-2830-46b3-c123-30824f47bd1a"
      },
      "execution_count": 10,
      "outputs": [
        {
          "output_type": "stream",
          "name": "stdout",
          "text": [
            "[[0.0 1.0 0.0 0.0 0.0 0.0 0.0 2 2 2 2]\n",
            " [1.0 0.0 0.0 0.0 0.0 0.0 0.0 1 1 1 1]\n",
            " [0.0 0.0 0.0 0.0 1.0 0.0 0.0 1 1 1 1]\n",
            " [0.0 0.0 0.0 1.0 0.0 0.0 0.0 165 168 168 170]\n",
            " [0.0 0.0 0.0 0.0 0.0 1.0 0.0 23 23 23 23]]\n"
          ]
        }
      ]
    },
    {
      "cell_type": "code",
      "source": [
        "print(x_test)"
      ],
      "metadata": {
        "colab": {
          "base_uri": "https://localhost:8080/"
        },
        "id": "IsEfNcVDxyjX",
        "outputId": "e5a38e69-bc81-49e1-d131-414237bcdf74"
      },
      "execution_count": 11,
      "outputs": [
        {
          "output_type": "stream",
          "name": "stdout",
          "text": [
            "[[0.0 0.0 0.0 0.0 0.0 0.0 1.0 4 4 4 4]\n",
            " [0.0 0.0 1.0 0.0 0.0 0.0 0.0 1 1 1 1]]\n"
          ]
        }
      ]
    },
    {
      "cell_type": "code",
      "source": [
        "print(y_train)"
      ],
      "metadata": {
        "colab": {
          "base_uri": "https://localhost:8080/"
        },
        "id": "ADIwMKGnx7kH",
        "outputId": "acf265e7-d668-4560-9f60-0a3faf121759"
      },
      "execution_count": 12,
      "outputs": [
        {
          "output_type": "stream",
          "name": "stdout",
          "text": [
            "[1 0 0 4 3]\n"
          ]
        }
      ]
    },
    {
      "cell_type": "code",
      "source": [
        "print(y_test)"
      ],
      "metadata": {
        "colab": {
          "base_uri": "https://localhost:8080/"
        },
        "id": "g4KW-35px_j3",
        "outputId": "41adfe8d-a9a2-40dc-e81f-7b6a51a8286e"
      },
      "execution_count": 13,
      "outputs": [
        {
          "output_type": "stream",
          "name": "stdout",
          "text": [
            "[2 0]\n"
          ]
        }
      ]
    },
    {
      "cell_type": "code",
      "source": [
        ""
      ],
      "metadata": {
        "id": "3xDanPzVyQEY"
      },
      "execution_count": null,
      "outputs": []
    }
  ]
}